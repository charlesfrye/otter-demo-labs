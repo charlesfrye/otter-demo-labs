{
 "cells": [
  {
   "cell_type": "markdown",
   "metadata": {},
   "source": [
    "# Otter-Grader Demo"
   ]
  },
  {
   "cell_type": "code",
   "execution_count": null,
   "metadata": {},
   "outputs": [],
   "source": [
    "def is_in_colab():\n",
    "    try:\n",
    "        import google.colab\n",
    "        in_colab = True\n",
    "    except ImportError:\n",
    "        in_colab = False\n",
    "    return in_colab\n",
    "\n",
    "if is_in_colab():\n",
    "    !git clone https://github.com/charlesfrye/otter-demo-labs.git\n",
    "    %cd ./otter-demo-labs/\n",
    "    !pip install otter-grader  # or requirements.txt"
   ]
  },
  {
   "cell_type": "code",
   "execution_count": null,
   "metadata": {},
   "outputs": [],
   "source": [
    "import otter\n",
    "grader = otter.Notebook(colab=is_in_colab())"
   ]
  },
  {
   "cell_type": "markdown",
   "metadata": {},
   "source": [
    "**Question 1:** Write a function `square` that returns the square of its argument.\n",
    "\n",
    "_Points:_ 2"
   ]
  },
  {
   "cell_type": "code",
   "execution_count": null,
   "metadata": {
    "tags": []
   },
   "outputs": [],
   "source": [
    "def square(x):\n",
    "    ..."
   ]
  },
  {
   "cell_type": "code",
   "execution_count": null,
   "metadata": {
    "deletable": false,
    "editable": false
   },
   "outputs": [],
   "source": [
    "grader.check(\"q1\")"
   ]
  },
  {
   "cell_type": "markdown",
   "metadata": {},
   "source": [
    "**Question 2:** Update the `foo.py` module to have a global variable named `BAR` that has value `\"baz\"`.\n",
    "\n",
    "_Points:_ 1"
   ]
  },
  {
   "cell_type": "code",
   "execution_count": null,
   "metadata": {
    "tags": []
   },
   "outputs": [],
   "source": [
    "import foo"
   ]
  },
  {
   "cell_type": "code",
   "execution_count": null,
   "metadata": {
    "deletable": false,
    "editable": false
   },
   "outputs": [],
   "source": [
    "grader.check(\"q2\")"
   ]
  },
  {
   "cell_type": "markdown",
   "metadata": {},
   "source": [
    "**Question 3:** Update the `foo.py` script to print `\"Hello, world!\"`.\n",
    "\n",
    "_Points:_ 1"
   ]
  },
  {
   "cell_type": "code",
   "execution_count": null,
   "metadata": {
    "tags": []
   },
   "outputs": [],
   "source": [
    "...\n",
    "# Once you've made changes in foo.py, this cell should print `Hello, world!`\n",
    "!python foo.py"
   ]
  },
  {
   "cell_type": "code",
   "execution_count": null,
   "metadata": {
    "deletable": false,
    "editable": false
   },
   "outputs": [],
   "source": [
    "grader.check(\"q3\")"
   ]
  }
 ],
 "metadata": {
  "kernelspec": {
   "display_name": "Python 3 (ipykernel)",
   "language": "python",
   "name": "python3"
  },
  "language_info": {
   "codemirror_mode": {
    "name": "ipython",
    "version": 3
   },
   "file_extension": ".py",
   "mimetype": "text/x-python",
   "name": "python",
   "nbconvert_exporter": "python",
   "pygments_lexer": "ipython3",
   "version": "3.9.2"
  },
  "otter": {
   "tests": {
    "q1": {
     "name": "q1",
     "points": null,
     "suites": [
      {
       "cases": [
        {
         "code": ">>> \n>>> square(1) == 1\nTrue",
         "failure_message": "1 ** 2 == 1 because 1 * 1 = 1",
         "hidden": false,
         "locked": false,
         "points": 2,
         "success_message": "Good job!"
        },
        {
         "code": ">>> square(0) == 0\nTrue",
         "hidden": false,
         "locked": false
        },
        {
         "code": ">>> square(2.5) == 6.25\nTrue",
         "hidden": false,
         "locked": false
        }
       ],
       "scored": true,
       "setup": "",
       "teardown": "",
       "type": "doctest"
      }
     ]
    },
    "q2": {
     "name": "q2",
     "points": null,
     "suites": [
      {
       "cases": [
        {
         "code": ">>> \n>>> import foo\n>>> \n>>> assert(\"bar\") not in dir(foo)\n",
         "failure_message": "capitalization matters!",
         "hidden": false,
         "locked": false,
         "points": 0
        },
        {
         "code": ">>> \n>>> import foo\n>>> \n>>> assert(\"BAR\") in dir(foo)\n",
         "failure_message": "make sure you define BAR in foo.py",
         "hidden": false,
         "locked": false,
         "points": 0
        },
        {
         "code": ">>> \n>>> import foo\n>>> \n>>> assert foo.BAR == \"baz\"\n",
         "failure_message": "check the value of foo.BAR",
         "hidden": false,
         "locked": false,
         "points": 1,
         "success_message": "Good job!"
        }
       ],
       "scored": true,
       "setup": "",
       "teardown": "",
       "type": "doctest"
      }
     ]
    },
    "q3": {
     "name": "q3",
     "points": null,
     "suites": [
      {
       "cases": [
        {
         "code": ">>> \n>>> import subprocess\n>>> \n>>> result = subprocess.run([\"python\", \"foo.py\"], capture_output=True)\n>>> result.stdout\nb'Hello, world!\\n'",
         "hidden": false,
         "locked": false,
         "points": 1,
         "success_message": "Good job!"
        }
       ],
       "scored": true,
       "setup": "",
       "teardown": "",
       "type": "doctest"
      }
     ]
    }
   }
  },
  "varInspector": {
   "cols": {
    "lenName": 16,
    "lenType": 16,
    "lenVar": 40
   },
   "kernels_config": {
    "python": {
     "delete_cmd_postfix": "",
     "delete_cmd_prefix": "del ",
     "library": "var_list.py",
     "varRefreshCmd": "print(var_dic_list())"
    },
    "r": {
     "delete_cmd_postfix": ") ",
     "delete_cmd_prefix": "rm(",
     "library": "var_list.r",
     "varRefreshCmd": "cat(var_dic_list()) "
    }
   },
   "types_to_exclude": [
    "module",
    "function",
    "builtin_function_or_method",
    "instance",
    "_Feature"
   ],
   "window_display": false
  }
 },
 "nbformat": 4,
 "nbformat_minor": 4
}
